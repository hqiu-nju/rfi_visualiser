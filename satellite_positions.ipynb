{
 "cells": [
  {
   "cell_type": "markdown",
   "metadata": {},
   "source": [
    "### try to generate slice positions in ra and dec for oskar visibilities"
   ]
  },
  {
   "cell_type": "code",
   "execution_count": 1,
   "metadata": {},
   "outputs": [],
   "source": [
    "import numpy as np\n",
    "import matplotlib.pyplot as plt\n",
    "import pycraf\n",
    "import cysgp4\n",
    "import astropy.coordinates as coord\n",
    "from pycraf import conversions as cnv\n",
    "from pycraf import protection, antenna, geometry,satellite\n",
    "from astropy import units as u, constants as const\n",
    "import glob\n",
    "from scepter import skynet,obs,tlefinder\n",
    "from astropy.coordinates import EarthLocation,SkyCoord\n",
    "from astropy.time import Time\n",
    "from astropy import units as u\n",
    "from astropy.coordinates import AltAz, ICRS\n",
    "from matplotlib.gridspec import GridSpec\n",
    "from matplotlib import animation\n"
   ]
  },
  {
   "cell_type": "code",
   "execution_count": 2,
   "metadata": {},
   "outputs": [],
   "source": [
    "tm_dir=\"OSKAR-2.7-Example-Data/\"\n",
    "telescope_model_position=tm_dir+\"telescope.tm/position.txt\"\n",
    "tle_dir=\"example_tle/20250407_035542.npz\"\n",
    "### generate pyobserver with telescope model position\n",
    "\n",
    "pos=np.loadtxt(telescope_model_position)\n",
    "if len(pos.shape)==3:\n",
    "    lon,lat,alt=pos\n",
    "    alt=alt*1000 ### to km\n",
    "else:\n",
    "    lon,lat=pos\n",
    "    alt=0\n",
    "cen_obs=cysgp4.PyObserver(lon,lat,alt)\n",
    "\n",
    "location = EarthLocation(lat=lat*u.deg, lon=lon*u.deg, height=alt*u.m)\n"
   ]
  },
  {
   "cell_type": "code",
   "execution_count": 3,
   "metadata": {},
   "outputs": [
    {
     "name": "stdout",
     "output_type": "stream",
     "text": [
      "(1, 1, 1, 1, 2000, 1)\n"
     ]
    }
   ],
   "source": [
    "min_elevation = 0 * u.deg\n",
    "grid_size = 2. * u.deg\n",
    "npoints=1 ##pointing per cell\n",
    "skygrid = skynet.pointgen(niters=npoints,\n",
    "    step_size=grid_size,\n",
    "    lat_range=(min_elevation, 90 * u.deg),\n",
    "    rnd_seed=0,\n",
    "    )\n",
    "\n",
    "tel_az, tel_el, grid_info = skygrid \n",
    "\n",
    "mjds = skynet.plantime(epochs=1,cadence=1*u.day,trange=2000*u.s,tint=1*u.s)\n",
    "print(mjds.shape)\n",
    "time = Time(mjds, format='mjd')\n"
   ]
  },
  {
   "cell_type": "code",
   "execution_count": 4,
   "metadata": {},
   "outputs": [
    {
     "data": {
      "text/plain": [
       "(7191,)"
      ]
     },
     "execution_count": 4,
     "metadata": {},
     "output_type": "execute_result"
    }
   ],
   "source": [
    "tles=tlefinder.readtlenpz(tle_dir) ### read a random tle\n",
    "\n",
    "tles.shape"
   ]
  },
  {
   "cell_type": "code",
   "execution_count": 5,
   "metadata": {},
   "outputs": [],
   "source": [
    "result = cysgp4.propagate_many(mjds,tles[100],observers=[cen_obs],do_eci_pos=True, do_topo=True, do_obs_pos=True, do_sat_azel=True,sat_frame='zxy') \n",
    "tel_az,tel_el,dist=tlefinder.parse_sgp4info(result,frame='topo')"
   ]
  },
  {
   "cell_type": "code",
   "execution_count": 7,
   "metadata": {},
   "outputs": [],
   "source": [
    "### convert to ra and dec using astropy\n",
    "altaz = AltAz(alt=tel_el.flatten()*u.deg, az=tel_az.flatten()*u.deg, obstime=time.flatten(), location=location)\n",
    "skycoord = SkyCoord(altaz)\n",
    "\n"
   ]
  },
  {
   "cell_type": "code",
   "execution_count": 14,
   "metadata": {},
   "outputs": [],
   "source": [
    "\n",
    "ra = skycoord.icrs.ra.deg\n",
    "dec = skycoord.icrs.dec.deg\n",
    "ra = ra.reshape(tel_az.shape)\n",
    "dec = dec.reshape(tel_az.shape)"
   ]
  },
  {
   "cell_type": "code",
   "execution_count": 15,
   "metadata": {},
   "outputs": [],
   "source": [
    "np.savez('oskar_radec.npz', ra=ra, dec=dec)"
   ]
  },
  {
   "cell_type": "code",
   "execution_count": null,
   "metadata": {},
   "outputs": [],
   "source": []
  }
 ],
 "metadata": {
  "kernelspec": {
   "display_name": "pycraf-env",
   "language": "python",
   "name": "python3"
  },
  "language_info": {
   "codemirror_mode": {
    "name": "ipython",
    "version": 3
   },
   "file_extension": ".py",
   "mimetype": "text/x-python",
   "name": "python",
   "nbconvert_exporter": "python",
   "pygments_lexer": "ipython3",
   "version": "3.10.13"
  }
 },
 "nbformat": 4,
 "nbformat_minor": 2
}
