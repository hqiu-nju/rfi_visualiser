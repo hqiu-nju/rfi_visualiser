{
 "cells": [
  {
   "cell_type": "code",
   "execution_count": 1,
   "metadata": {},
   "outputs": [],
   "source": [
    "import numpy as np\n",
    "import matplotlib.pyplot as plt\n",
    "import pycraf\n",
    "import cysgp4\n",
    "import astropy.coordinates as coord\n",
    "from pycraf import conversions as cnv\n",
    "from pycraf import protection, antenna, geometry,satellite\n",
    "from astropy import units as u, constants as const\n",
    "import glob\n",
    "from scepter import skynet,obs,tlefinder\n",
    "from astropy.coordinates import EarthLocation,SkyCoord\n",
    "from astropy.time import Time\n",
    "from astropy import units as u\n",
    "from astropy.coordinates import AltAz, ICRS\n",
    "from matplotlib.gridspec import GridSpec\n",
    "from matplotlib import animation"
   ]
  },
  {
   "cell_type": "code",
   "execution_count": null,
   "metadata": {},
   "outputs": [],
   "source": [
    "osm_file='OSKAR-2.7-Example-Data/sky.osm'"
   ]
  }
 ],
 "metadata": {
  "kernelspec": {
   "display_name": "pycraf-env",
   "language": "python",
   "name": "python3"
  },
  "language_info": {
   "codemirror_mode": {
    "name": "ipython",
    "version": 3
   },
   "file_extension": ".py",
   "mimetype": "text/x-python",
   "name": "python",
   "nbconvert_exporter": "python",
   "pygments_lexer": "ipython3",
   "version": "3.10.13"
  }
 },
 "nbformat": 4,
 "nbformat_minor": 2
}
